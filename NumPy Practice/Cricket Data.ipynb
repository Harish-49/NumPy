{
 "cells": [
  {
   "cell_type": "markdown",
   "metadata": {},
   "source": [
    "# Cricket Data"
   ]
  },
  {
   "cell_type": "markdown",
   "metadata": {},
   "source": [
    "### Using the Data set find the following"
   ]
  },
  {
   "cell_type": "markdown",
   "metadata": {},
   "source": [
    "### 1. To find mean, median, IQR for Sachin, Rahul, and India"
   ]
  },
  {
   "cell_type": "code",
   "execution_count": 1,
   "metadata": {},
   "outputs": [],
   "source": [
    "import numpy as np"
   ]
  },
  {
   "cell_type": "code",
   "execution_count": 3,
   "metadata": {
    "colab": {
     "base_uri": "https://localhost:8080/"
    },
    "id": "h5g-7R7ppkxu",
    "outputId": "9e3d3854-3152-41f8-ee13-96c7e85376bf"
   },
   "outputs": [
    {
     "name": "stdout",
     "output_type": "stream",
     "text": [
      "MEAM: Sachin- 39.87555555555556  Dravid- 32.062222222222225  INDIA- 220.79555555555555\n",
      "MEDIAN: Sachin- 27.0  Dravid- 22.0  INDIA- 216.0\n",
      "IQR: Sachin- 57.0  Dravid- 46.0  INDIA- 98.0\n"
     ]
    }
   ],
   "source": [
    "d=np.loadtxt(r\"C:\\Users\\haris\\Downloads\\Cricetdata.txt\", skiprows=1, usecols=[1,2,3], dtype=int)\n",
    "srt=d[:,[0]]\n",
    "rsd=d[:,[1]]\n",
    "ind=d[:,[2]]\n",
    "print(\"MEAM: Sachin-\",np.mean(srt),\" Dravid-\",np.mean(rsd),\" INDIA-\",np.mean(ind))\n",
    "print(\"MEDIAN: Sachin-\",np.median(srt),\" Dravid-\",np.median(rsd),\" INDIA-\",np.median(ind))\n",
    "a,b=np.percentile(srt,[75,25])\n",
    "iqr=a-b\n",
    "a1,b1=np.percentile(rsd,[75,25])\n",
    "iqr1=a1-b1\n",
    "a2,b2=np.percentile(ind,[75,25])\n",
    "iqr2=a2-b2\n",
    "print(\"IQR: Sachin-\",iqr,\" Dravid-\",iqr1,\" INDIA-\",iqr2)"
   ]
  },
  {
   "cell_type": "markdown",
   "metadata": {},
   "source": [
    "### 2. To find mean of Sachin’s score grouped by 25 matches."
   ]
  },
  {
   "cell_type": "code",
   "execution_count": 4,
   "metadata": {
    "colab": {
     "base_uri": "https://localhost:8080/"
    },
    "id": "lXhfbrJYB-rp",
    "outputId": "0c31aff1-d970-4322-d3ab-f41ea0ebed86"
   },
   "outputs": [
    {
     "name": "stdout",
     "output_type": "stream",
     "text": [
      "33.96\n",
      "49.4\n",
      "38.48\n",
      "40.16\n",
      "39.36\n",
      "38.2\n",
      "44.6\n",
      "39.52\n",
      "35.2\n"
     ]
    }
   ],
   "source": [
    "print(np.mean(srt[:25]))\n",
    "print(np.mean(srt[25:50]))\n",
    "print(np.mean(srt[50:75]))\n",
    "print(np.mean(srt[75:100]))\n",
    "print(np.mean(srt[100:125]))\n",
    "print(np.mean(srt[125:150]))\n",
    "print(np.mean(srt[150:175]))\n",
    "print(np.mean(srt[175:200]))\n",
    "print(np.mean(srt[200:225]))\n"
   ]
  },
  {
   "cell_type": "markdown",
   "metadata": {},
   "source": [
    "### 3. To find mean of Sachin’s score where he has scored a century."
   ]
  },
  {
   "cell_type": "code",
   "execution_count": 5,
   "metadata": {
    "colab": {
     "base_uri": "https://localhost:8080/"
    },
    "id": "mbAn2jqSE5Oz",
    "outputId": "ffc2246c-29bd-4d0e-c0c4-395843c44486"
   },
   "outputs": [
    {
     "name": "stdout",
     "output_type": "stream",
     "text": [
      "125.0\n"
     ]
    }
   ],
   "source": [
    "z=d.shape\n",
    "p=[]\n",
    "for i in range(0,z[0]):\n",
    "  if srt[i]>=100:\n",
    "    p.append(srt[i])\n",
    "print(np.mean(p))"
   ]
  },
  {
   "cell_type": "markdown",
   "metadata": {},
   "source": [
    "### 4. To find mean of Sachin’s score when Rahul has scored less than 10"
   ]
  },
  {
   "cell_type": "code",
   "execution_count": 6,
   "metadata": {
    "colab": {
     "base_uri": "https://localhost:8080/"
    },
    "id": "YfFYjQyuGcqA",
    "outputId": "7ada3325-a9ae-40f5-a9af-e7d9a8dccf1a"
   },
   "outputs": [
    {
     "name": "stdout",
     "output_type": "stream",
     "text": [
      "40.74285714285714\n"
     ]
    }
   ],
   "source": [
    "q=[]\n",
    "for j in range(0,z[0]):\n",
    "  if rsd[j]<10:\n",
    "    q.append(srt[j])\n",
    "print(np.mean(q))"
   ]
  },
  {
   "cell_type": "markdown",
   "metadata": {},
   "source": [
    "### 5. For every match find out who has scored more – Sachin or Rahul"
   ]
  },
  {
   "cell_type": "code",
   "execution_count": 7,
   "metadata": {
    "colab": {
     "base_uri": "https://localhost:8080/"
    },
    "id": "9O5lMQiEHZAw",
    "outputId": "c81c6015-57be-415f-f73b-abb14b79ab3f"
   },
   "outputs": [
    {
     "name": "stdout",
     "output_type": "stream",
     "text": [
      "Sachin- [100]\n",
      "Dravid- [62]\n",
      "Dravid- [85]\n",
      "Sachin- [71]\n",
      "Sachin- [104]\n",
      "Dravid- [104]\n",
      "Dravid- [76]\n",
      "Sachin- [86]\n",
      "Dravid- [60]\n",
      "Sachin- [85]\n",
      "Dravid- [63]\n",
      "Dravid- [107]\n",
      "Dravid- [76]\n",
      "Sachin- [37]\n",
      "Sachin- [14]\n",
      "Dravid- [33]\n",
      "Dravid- [7]\n",
      "Dravid- [0]\n",
      "Dravid- [36]\n",
      "Dravid- [66]\n",
      "Sachin- [62]\n",
      "Dravid- [123]\n",
      "Sachin- [138]\n",
      "Sachin- [38]\n",
      "Dravid- [11]\n",
      "Sachin- [46]\n",
      "Sachin- [65]\n",
      "Dravid- [0]\n",
      "Sachin- [39]\n",
      "Sachin- [48]\n",
      "Sachin- [141]\n",
      "Sachin- [62]\n",
      "Dravid- [73]\n",
      "Dravid- [86]\n",
      "Sachin- [41]\n",
      "Dravid- [82]\n",
      "Dravid- [25]\n",
      "Sachin- [186]\n",
      "Dravid- [26]\n",
      "Sachin- [27]\n",
      "Sachin- [27]\n",
      "Sachin- [51]\n",
      "Sachin- [18]\n",
      "Dravid- [39]\n",
      "Sachin- [146]\n",
      "Dravid- [32]\n",
      "Dravid- [84]\n",
      "Sachin- [141]\n",
      "Dravid- [31]\n",
      "Sachin- [65]\n",
      "Dravid- [47]\n",
      "Dravid- [13]\n",
      "Dravid- [49]\n",
      "Dravid- [28]\n",
      "Sachin- [28]\n",
      "Dravid- [28]\n",
      "Sachin- [123]\n",
      "Sachin- [120]\n",
      "Dravid- [14]\n",
      "Dravid- [11]\n",
      "Dravid- [103]\n",
      "Sachin- [81]\n",
      "Dravid- [5]\n",
      "Sachin- [54]\n",
      "Sachin- [122]\n",
      "Sachin- [4]\n",
      "Sachin- [14]\n",
      "Dravid- [30]\n",
      "Sachin- [100]\n",
      "Dravid- [53]\n",
      "Dravid- [60]\n",
      "Sachin- [57]\n",
      "Sachin- [99]\n",
      "Dravid- [71]\n",
      "Dravid- [54]\n",
      "Sachin- [32]\n",
      "Dravid- [69]\n",
      "Dravid- [33]\n",
      "Sachin- [40]\n",
      "Dravid- [2]\n",
      "Dravid- [8]\n",
      "Dravid- [36]\n",
      "Dravid- [51]\n",
      "Dravid- [8]\n",
      "Dravid- [62]\n",
      "Sachin- [30]\n",
      "Sachin- [37]\n",
      "Sachin- [89]\n",
      "Dravid- [104]\n",
      "Sachin- [98]\n",
      "Sachin- [83]\n",
      "Sachin- [93]\n",
      "Dravid- [0]\n",
      "Sachin- [52]\n",
      "Sachin- [152]\n",
      "Dravid- [14]\n",
      "Dravid- [62]\n",
      "Sachin- [93]\n",
      "Dravid- [68]\n",
      "Sachin- [26]\n",
      "Dravid- [0]\n",
      "Dravid- [22]\n",
      "Dravid- [25]\n",
      "Dravid- [29]\n",
      "Dravid- [60]\n",
      "Sachin- [89]\n",
      "Dravid- [65]\n",
      "Dravid- [3]\n",
      "Sachin- [53]\n",
      "Dravid- [16]\n",
      "Dravid- [0]\n",
      "Sachin- [81]\n",
      "Dravid- [53]\n",
      "Sachin- [78]\n",
      "Dravid- [23]\n",
      "Sachin- [105]\n",
      "Sachin- [122]\n",
      "Sachin- [9]\n",
      "Dravid- [20]\n",
      "Sachin- [28]\n",
      "Dravid- [80]\n",
      "Sachin- [69]\n",
      "Sachin- [13]\n",
      "Sachin- [97]\n",
      "Sachin- [93]\n",
      "Dravid- [50]\n",
      "Sachin- [36]\n",
      "Dravid- [42]\n",
      "Dravid- [61]\n",
      "Sachin- [29]\n",
      "Sachin- [12]\n",
      "Dravid- [64]\n",
      "Sachin- [34]\n",
      "Dravid- [46]\n",
      "Sachin- [100]\n",
      "Sachin- [44]\n",
      "Sachin- [82]\n",
      "Dravid- [0]\n",
      "Sachin- [79]\n",
      "Sachin- [6]\n",
      "Dravid- [72]\n",
      "Dravid- [12]\n",
      "Dravid- [38]\n",
      "Sachin- [93]\n",
      "Sachin- [35]\n",
      "Sachin- [63]\n",
      "Sachin- [74]\n",
      "Dravid- [56]\n",
      "Sachin- [117]\n",
      "Dravid- [58]\n",
      "Sachin- [49]\n",
      "Sachin- [64]\n",
      "Sachin- [43]\n",
      "Sachin- [72]\n",
      "Dravid- [13]\n",
      "Dravid- [77]\n",
      "Dravid- [29]\n",
      "Sachin- [65]\n",
      "Dravid- [90]\n",
      "Sachin- [141]\n",
      "Dravid- [54]\n",
      "Sachin- [44]\n",
      "Dravid- [78]\n",
      "Sachin- [60]\n",
      "Sachin- [68]\n",
      "Dravid- [10]\n",
      "Sachin- [139]\n",
      "Dravid- [54]\n",
      "Dravid- [52]\n",
      "Sachin- [44]\n",
      "Sachin- [47]\n",
      "Dravid- [18]\n",
      "Sachin- [17]\n",
      "Sachin- [35]\n",
      "Sachin- [88]\n",
      "Sachin- [114]\n",
      "Dravid- [71]\n",
      "Sachin- [127]\n",
      "Dravid- [7]\n",
      "Dravid- [61]\n",
      "Sachin- [33]\n",
      "Sachin- [110]\n",
      "Sachin- [146]\n",
      "Sachin- [7]\n",
      "Dravid- [26]\n",
      "Dravid- [19]\n",
      "Dravid- [63]\n",
      "Sachin- [11]\n",
      "Dravid- [46]\n",
      "Dravid- [31]\n",
      "Dravid- [12]\n",
      "Dravid- [49]\n",
      "Sachin- [94]\n",
      "Dravid- [99]\n",
      "Dravid- [47]\n",
      "Sachin- [62]\n",
      "Dravid- [73]\n",
      "Dravid- [74]\n",
      "Sachin- [67]\n",
      "Dravid- [29]\n",
      "Sachin- [99]\n",
      "Sachin- [55]\n",
      "Dravid- [0]\n",
      "Dravid- [30]\n",
      "Sachin- [101]\n",
      "Dravid- [145]\n",
      "Dravid- [22]\n",
      "Dravid- [31]\n",
      "Sachin- [140]\n",
      "Sachin- [23]\n",
      "Sachin- [113]\n",
      "Dravid- [52]\n",
      "Dravid- [31]\n",
      "Sachin- [41]\n",
      "Dravid- [50]\n",
      "Sachin- [28]\n",
      "Dravid- [9]\n",
      "Dravid- [53]\n",
      "Dravid- [49]\n",
      "Dravid- [21]\n",
      "Sachin- [25]\n",
      "Sachin- [102]\n",
      "Dravid- [22]\n",
      "Sachin- [27]\n",
      "Sachin- [40]\n"
     ]
    }
   ],
   "source": [
    "for k in range(0,z[0]):\n",
    "  if srt[k]>rsd[k]:\n",
    "    print(\"Sachin-\",srt[k])\n",
    "  else:\n",
    "    print(\"Dravid-\",rsd[k])"
   ]
  },
  {
   "cell_type": "code",
   "execution_count": null,
   "metadata": {},
   "outputs": [],
   "source": []
  }
 ],
 "metadata": {
  "colab": {
   "name": "Assignment 4.ipynb",
   "provenance": []
  },
  "kernelspec": {
   "display_name": "Python 3",
   "language": "python",
   "name": "python3"
  },
  "language_info": {
   "codemirror_mode": {
    "name": "ipython",
    "version": 3
   },
   "file_extension": ".py",
   "mimetype": "text/x-python",
   "name": "python",
   "nbconvert_exporter": "python",
   "pygments_lexer": "ipython3",
   "version": "3.8.3"
  }
 },
 "nbformat": 4,
 "nbformat_minor": 1
}
